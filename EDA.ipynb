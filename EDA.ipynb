{
 "cells": [
  {
   "cell_type": "code",
   "execution_count": 2,
   "metadata": {},
   "outputs": [],
   "source": [
    "# 라이브러리 세팅 및 seaborn 한글 패치\n",
    "import pandas as pd\n",
    "import seaborn as sns\n",
    "import warnings\n",
    "import matplotlib.pyplot as plt\n",
    "import matplotlib.font_manager as fm\n",
    "import seaborn as sns\n",
    "import numpy as np\n",
    "warnings.filterwarnings('ignore')\n",
    "\n",
    "plt.rc(\"font\", family = \"Malgun Gothic\")\n",
    "sns.set(font=\"Malgun Gothic\", \n",
    "rc={\"axes.unicode_minus\":False}, style='white')\n"
   ]
  },
  {
   "cell_type": "code",
   "execution_count": 3,
   "metadata": {},
   "outputs": [],
   "source": [
    "train = pd.read_csv(\"train.csv\")"
   ]
  },
  {
   "cell_type": "code",
   "execution_count": 15,
   "metadata": {},
   "outputs": [
    {
     "data": {
      "text/html": [
       "<div>\n",
       "<style scoped>\n",
       "    .dataframe tbody tr th:only-of-type {\n",
       "        vertical-align: middle;\n",
       "    }\n",
       "\n",
       "    .dataframe tbody tr th {\n",
       "        vertical-align: top;\n",
       "    }\n",
       "\n",
       "    .dataframe thead th {\n",
       "        text-align: right;\n",
       "    }\n",
       "</style>\n",
       "<table border=\"1\" class=\"dataframe\">\n",
       "  <thead>\n",
       "    <tr style=\"text-align: right;\">\n",
       "      <th></th>\n",
       "      <th>일시</th>\n",
       "      <th>최고기온</th>\n",
       "      <th>최저기온</th>\n",
       "      <th>일교차</th>\n",
       "      <th>강수량</th>\n",
       "      <th>평균습도</th>\n",
       "      <th>평균풍속</th>\n",
       "      <th>일조합</th>\n",
       "      <th>일사합</th>\n",
       "      <th>일조율</th>\n",
       "      <th>평균기온</th>\n",
       "    </tr>\n",
       "  </thead>\n",
       "  <tbody>\n",
       "    <tr>\n",
       "      <th>0</th>\n",
       "      <td>1960-01-01</td>\n",
       "      <td>2.2</td>\n",
       "      <td>-5.2</td>\n",
       "      <td>7.4</td>\n",
       "      <td>NaN</td>\n",
       "      <td>68.3</td>\n",
       "      <td>1.7</td>\n",
       "      <td>6.7</td>\n",
       "      <td>NaN</td>\n",
       "      <td>NaN</td>\n",
       "      <td>-1.6</td>\n",
       "    </tr>\n",
       "    <tr>\n",
       "      <th>1</th>\n",
       "      <td>1960-01-02</td>\n",
       "      <td>1.2</td>\n",
       "      <td>-5.6</td>\n",
       "      <td>6.8</td>\n",
       "      <td>0.4</td>\n",
       "      <td>87.7</td>\n",
       "      <td>1.3</td>\n",
       "      <td>0.0</td>\n",
       "      <td>NaN</td>\n",
       "      <td>NaN</td>\n",
       "      <td>-1.9</td>\n",
       "    </tr>\n",
       "    <tr>\n",
       "      <th>2</th>\n",
       "      <td>1960-01-03</td>\n",
       "      <td>8.7</td>\n",
       "      <td>-2.1</td>\n",
       "      <td>10.8</td>\n",
       "      <td>0.0</td>\n",
       "      <td>81.3</td>\n",
       "      <td>3.0</td>\n",
       "      <td>0.0</td>\n",
       "      <td>NaN</td>\n",
       "      <td>NaN</td>\n",
       "      <td>4.0</td>\n",
       "    </tr>\n",
       "    <tr>\n",
       "      <th>3</th>\n",
       "      <td>1960-01-04</td>\n",
       "      <td>10.8</td>\n",
       "      <td>1.2</td>\n",
       "      <td>9.6</td>\n",
       "      <td>0.0</td>\n",
       "      <td>79.7</td>\n",
       "      <td>4.4</td>\n",
       "      <td>2.6</td>\n",
       "      <td>NaN</td>\n",
       "      <td>NaN</td>\n",
       "      <td>7.5</td>\n",
       "    </tr>\n",
       "    <tr>\n",
       "      <th>4</th>\n",
       "      <td>1960-01-05</td>\n",
       "      <td>1.3</td>\n",
       "      <td>-8.2</td>\n",
       "      <td>9.5</td>\n",
       "      <td>NaN</td>\n",
       "      <td>44.0</td>\n",
       "      <td>5.1</td>\n",
       "      <td>8.2</td>\n",
       "      <td>NaN</td>\n",
       "      <td>NaN</td>\n",
       "      <td>-4.6</td>\n",
       "    </tr>\n",
       "    <tr>\n",
       "      <th>...</th>\n",
       "      <td>...</td>\n",
       "      <td>...</td>\n",
       "      <td>...</td>\n",
       "      <td>...</td>\n",
       "      <td>...</td>\n",
       "      <td>...</td>\n",
       "      <td>...</td>\n",
       "      <td>...</td>\n",
       "      <td>...</td>\n",
       "      <td>...</td>\n",
       "      <td>...</td>\n",
       "    </tr>\n",
       "    <tr>\n",
       "      <th>23006</th>\n",
       "      <td>2022-12-27</td>\n",
       "      <td>3.3</td>\n",
       "      <td>-7.3</td>\n",
       "      <td>10.6</td>\n",
       "      <td>NaN</td>\n",
       "      <td>69.8</td>\n",
       "      <td>1.8</td>\n",
       "      <td>8.8</td>\n",
       "      <td>10.25</td>\n",
       "      <td>91.7</td>\n",
       "      <td>-2.6</td>\n",
       "    </tr>\n",
       "    <tr>\n",
       "      <th>23007</th>\n",
       "      <td>2022-12-28</td>\n",
       "      <td>0.1</td>\n",
       "      <td>-6.0</td>\n",
       "      <td>6.1</td>\n",
       "      <td>0.1</td>\n",
       "      <td>58.1</td>\n",
       "      <td>2.5</td>\n",
       "      <td>8.7</td>\n",
       "      <td>10.86</td>\n",
       "      <td>90.6</td>\n",
       "      <td>-3.3</td>\n",
       "    </tr>\n",
       "    <tr>\n",
       "      <th>23008</th>\n",
       "      <td>2022-12-29</td>\n",
       "      <td>2.1</td>\n",
       "      <td>-7.8</td>\n",
       "      <td>9.9</td>\n",
       "      <td>0.0</td>\n",
       "      <td>56.3</td>\n",
       "      <td>1.7</td>\n",
       "      <td>9.0</td>\n",
       "      <td>10.88</td>\n",
       "      <td>93.8</td>\n",
       "      <td>-2.9</td>\n",
       "    </tr>\n",
       "    <tr>\n",
       "      <th>23009</th>\n",
       "      <td>2022-12-30</td>\n",
       "      <td>2.3</td>\n",
       "      <td>-4.4</td>\n",
       "      <td>6.7</td>\n",
       "      <td>0.0</td>\n",
       "      <td>65.6</td>\n",
       "      <td>1.9</td>\n",
       "      <td>7.9</td>\n",
       "      <td>10.84</td>\n",
       "      <td>82.3</td>\n",
       "      <td>-1.8</td>\n",
       "    </tr>\n",
       "    <tr>\n",
       "      <th>23010</th>\n",
       "      <td>2022-12-31</td>\n",
       "      <td>2.1</td>\n",
       "      <td>-5.1</td>\n",
       "      <td>7.2</td>\n",
       "      <td>0.0</td>\n",
       "      <td>65.5</td>\n",
       "      <td>1.4</td>\n",
       "      <td>1.1</td>\n",
       "      <td>4.16</td>\n",
       "      <td>11.5</td>\n",
       "      <td>-1.2</td>\n",
       "    </tr>\n",
       "  </tbody>\n",
       "</table>\n",
       "<p>23011 rows × 11 columns</p>\n",
       "</div>"
      ],
      "text/plain": [
       "               일시  최고기온  최저기온   일교차  강수량  평균습도  평균풍속  일조합    일사합   일조율  평균기온\n",
       "0      1960-01-01   2.2  -5.2   7.4  NaN  68.3   1.7  6.7    NaN   NaN  -1.6\n",
       "1      1960-01-02   1.2  -5.6   6.8  0.4  87.7   1.3  0.0    NaN   NaN  -1.9\n",
       "2      1960-01-03   8.7  -2.1  10.8  0.0  81.3   3.0  0.0    NaN   NaN   4.0\n",
       "3      1960-01-04  10.8   1.2   9.6  0.0  79.7   4.4  2.6    NaN   NaN   7.5\n",
       "4      1960-01-05   1.3  -8.2   9.5  NaN  44.0   5.1  8.2    NaN   NaN  -4.6\n",
       "...           ...   ...   ...   ...  ...   ...   ...  ...    ...   ...   ...\n",
       "23006  2022-12-27   3.3  -7.3  10.6  NaN  69.8   1.8  8.8  10.25  91.7  -2.6\n",
       "23007  2022-12-28   0.1  -6.0   6.1  0.1  58.1   2.5  8.7  10.86  90.6  -3.3\n",
       "23008  2022-12-29   2.1  -7.8   9.9  0.0  56.3   1.7  9.0  10.88  93.8  -2.9\n",
       "23009  2022-12-30   2.3  -4.4   6.7  0.0  65.6   1.9  7.9  10.84  82.3  -1.8\n",
       "23010  2022-12-31   2.1  -5.1   7.2  0.0  65.5   1.4  1.1   4.16  11.5  -1.2\n",
       "\n",
       "[23011 rows x 11 columns]"
      ]
     },
     "execution_count": 15,
     "metadata": {},
     "output_type": "execute_result"
    }
   ],
   "source": [
    "train"
   ]
  },
  {
   "cell_type": "code",
   "execution_count": 16,
   "metadata": {},
   "outputs": [
    {
     "data": {
      "text/plain": [
       "일시       object\n",
       "최고기온    float64\n",
       "최저기온    float64\n",
       "일교차     float64\n",
       "강수량     float64\n",
       "평균습도    float64\n",
       "평균풍속    float64\n",
       "일조합     float64\n",
       "일사합     float64\n",
       "일조율     float64\n",
       "평균기온    float64\n",
       "dtype: object"
      ]
     },
     "execution_count": 16,
     "metadata": {},
     "output_type": "execute_result"
    }
   ],
   "source": [
    "train.dtypes"
   ]
  },
  {
   "cell_type": "code",
   "execution_count": 17,
   "metadata": {},
   "outputs": [
    {
     "data": {
      "text/plain": [
       "일시          0\n",
       "최고기온        3\n",
       "최저기온        3\n",
       "일교차         4\n",
       "강수량     13861\n",
       "평균습도        0\n",
       "평균풍속        4\n",
       "일조합       118\n",
       "일사합      4862\n",
       "일조율       366\n",
       "평균기온        0\n",
       "dtype: int64"
      ]
     },
     "execution_count": 17,
     "metadata": {},
     "output_type": "execute_result"
    }
   ],
   "source": [
    "train.isnull().sum()"
   ]
  },
  {
   "cell_type": "code",
   "execution_count": 18,
   "metadata": {},
   "outputs": [
    {
     "data": {
      "text/html": [
       "<div>\n",
       "<style scoped>\n",
       "    .dataframe tbody tr th:only-of-type {\n",
       "        vertical-align: middle;\n",
       "    }\n",
       "\n",
       "    .dataframe tbody tr th {\n",
       "        vertical-align: top;\n",
       "    }\n",
       "\n",
       "    .dataframe thead th {\n",
       "        text-align: right;\n",
       "    }\n",
       "</style>\n",
       "<table border=\"1\" class=\"dataframe\">\n",
       "  <thead>\n",
       "    <tr style=\"text-align: right;\">\n",
       "      <th></th>\n",
       "      <th>count</th>\n",
       "      <th>mean</th>\n",
       "      <th>std</th>\n",
       "      <th>min</th>\n",
       "      <th>25%</th>\n",
       "      <th>50%</th>\n",
       "      <th>75%</th>\n",
       "      <th>max</th>\n",
       "    </tr>\n",
       "  </thead>\n",
       "  <tbody>\n",
       "    <tr>\n",
       "      <th>최고기온</th>\n",
       "      <td>23008.0</td>\n",
       "      <td>17.071714</td>\n",
       "      <td>10.714471</td>\n",
       "      <td>-13.6</td>\n",
       "      <td>7.8</td>\n",
       "      <td>18.90</td>\n",
       "      <td>26.40</td>\n",
       "      <td>39.60</td>\n",
       "    </tr>\n",
       "    <tr>\n",
       "      <th>최저기온</th>\n",
       "      <td>23008.0</td>\n",
       "      <td>8.451960</td>\n",
       "      <td>10.578285</td>\n",
       "      <td>-20.2</td>\n",
       "      <td>-0.3</td>\n",
       "      <td>9.20</td>\n",
       "      <td>17.90</td>\n",
       "      <td>30.30</td>\n",
       "    </tr>\n",
       "    <tr>\n",
       "      <th>일교차</th>\n",
       "      <td>23007.0</td>\n",
       "      <td>8.619277</td>\n",
       "      <td>2.907096</td>\n",
       "      <td>1.0</td>\n",
       "      <td>6.6</td>\n",
       "      <td>8.60</td>\n",
       "      <td>10.60</td>\n",
       "      <td>19.60</td>\n",
       "    </tr>\n",
       "    <tr>\n",
       "      <th>강수량</th>\n",
       "      <td>9150.0</td>\n",
       "      <td>9.593683</td>\n",
       "      <td>21.966135</td>\n",
       "      <td>0.0</td>\n",
       "      <td>0.1</td>\n",
       "      <td>1.40</td>\n",
       "      <td>8.50</td>\n",
       "      <td>332.80</td>\n",
       "    </tr>\n",
       "    <tr>\n",
       "      <th>평균습도</th>\n",
       "      <td>23011.0</td>\n",
       "      <td>65.202851</td>\n",
       "      <td>14.549077</td>\n",
       "      <td>17.9</td>\n",
       "      <td>54.9</td>\n",
       "      <td>65.50</td>\n",
       "      <td>75.80</td>\n",
       "      <td>99.80</td>\n",
       "    </tr>\n",
       "    <tr>\n",
       "      <th>평균풍속</th>\n",
       "      <td>23007.0</td>\n",
       "      <td>2.380993</td>\n",
       "      <td>0.947595</td>\n",
       "      <td>0.1</td>\n",
       "      <td>1.7</td>\n",
       "      <td>2.20</td>\n",
       "      <td>2.90</td>\n",
       "      <td>7.80</td>\n",
       "    </tr>\n",
       "    <tr>\n",
       "      <th>일조합</th>\n",
       "      <td>22893.0</td>\n",
       "      <td>5.858826</td>\n",
       "      <td>3.816941</td>\n",
       "      <td>0.0</td>\n",
       "      <td>2.2</td>\n",
       "      <td>6.60</td>\n",
       "      <td>9.00</td>\n",
       "      <td>13.70</td>\n",
       "    </tr>\n",
       "    <tr>\n",
       "      <th>일사합</th>\n",
       "      <td>18149.0</td>\n",
       "      <td>11.933170</td>\n",
       "      <td>6.419122</td>\n",
       "      <td>0.0</td>\n",
       "      <td>7.0</td>\n",
       "      <td>11.22</td>\n",
       "      <td>16.62</td>\n",
       "      <td>33.48</td>\n",
       "    </tr>\n",
       "    <tr>\n",
       "      <th>일조율</th>\n",
       "      <td>22645.0</td>\n",
       "      <td>48.653526</td>\n",
       "      <td>31.662321</td>\n",
       "      <td>0.0</td>\n",
       "      <td>17.8</td>\n",
       "      <td>55.70</td>\n",
       "      <td>78.00</td>\n",
       "      <td>96.90</td>\n",
       "    </tr>\n",
       "    <tr>\n",
       "      <th>평균기온</th>\n",
       "      <td>23011.0</td>\n",
       "      <td>12.415419</td>\n",
       "      <td>10.489515</td>\n",
       "      <td>-16.4</td>\n",
       "      <td>3.4</td>\n",
       "      <td>13.80</td>\n",
       "      <td>21.80</td>\n",
       "      <td>33.70</td>\n",
       "    </tr>\n",
       "  </tbody>\n",
       "</table>\n",
       "</div>"
      ],
      "text/plain": [
       "        count       mean        std   min   25%    50%    75%     max\n",
       "최고기온  23008.0  17.071714  10.714471 -13.6   7.8  18.90  26.40   39.60\n",
       "최저기온  23008.0   8.451960  10.578285 -20.2  -0.3   9.20  17.90   30.30\n",
       "일교차   23007.0   8.619277   2.907096   1.0   6.6   8.60  10.60   19.60\n",
       "강수량    9150.0   9.593683  21.966135   0.0   0.1   1.40   8.50  332.80\n",
       "평균습도  23011.0  65.202851  14.549077  17.9  54.9  65.50  75.80   99.80\n",
       "평균풍속  23007.0   2.380993   0.947595   0.1   1.7   2.20   2.90    7.80\n",
       "일조합   22893.0   5.858826   3.816941   0.0   2.2   6.60   9.00   13.70\n",
       "일사합   18149.0  11.933170   6.419122   0.0   7.0  11.22  16.62   33.48\n",
       "일조율   22645.0  48.653526  31.662321   0.0  17.8  55.70  78.00   96.90\n",
       "평균기온  23011.0  12.415419  10.489515 -16.4   3.4  13.80  21.80   33.70"
      ]
     },
     "execution_count": 18,
     "metadata": {},
     "output_type": "execute_result"
    }
   ],
   "source": [
    "train.describe().T"
   ]
  },
  {
   "cell_type": "code",
   "execution_count": 19,
   "metadata": {},
   "outputs": [],
   "source": [
    "train_copy = train.copy(deep=True)"
   ]
  },
  {
   "cell_type": "code",
   "execution_count": 20,
   "metadata": {},
   "outputs": [
    {
     "data": {
      "text/plain": [
       "array([[<AxesSubplot:title={'center':'최고기온'}>,\n",
       "        <AxesSubplot:title={'center':'최저기온'}>,\n",
       "        <AxesSubplot:title={'center':'일교차'}>],\n",
       "       [<AxesSubplot:title={'center':'강수량'}>,\n",
       "        <AxesSubplot:title={'center':'평균습도'}>,\n",
       "        <AxesSubplot:title={'center':'평균풍속'}>],\n",
       "       [<AxesSubplot:title={'center':'일조합'}>,\n",
       "        <AxesSubplot:title={'center':'일사합'}>,\n",
       "        <AxesSubplot:title={'center':'일조율'}>],\n",
       "       [<AxesSubplot:title={'center':'평균기온'}>, <AxesSubplot:>,\n",
       "        <AxesSubplot:>]], dtype=object)"
      ]
     },
     "execution_count": 20,
     "metadata": {},
     "output_type": "execute_result"
    },
    {
     "data": {
      "image/png": "[encoded data removed]",
      "text/plain": [
       "<Figure size 1080x1080 with 12 Axes>"
      ]
     },
     "metadata": {},
     "output_type": "display_data"
    }
   ],
   "source": [
    "train_copy.hist(figsize=(15,15))"
   ]
  },
  {
   "cell_type": "markdown",
   "metadata": {},
   "source": [
    "Null값에 대한 전처리. \n",
    "\n",
    "1. 우리나라의 경우 사계절이 뚜렸하고 시간의 흐름에 따른 기온의 변화가 대체로 일정하므로 비어있는 값은 바로 직전 값으로 대체하여 산출\n",
    "2. 단, 강수량의 경우 일일 강수량이 없는 날도 상당 수 존재하므로 강수량의 NAN값은 0으로 처리"
   ]
  },
  {
   "cell_type": "code",
   "execution_count": 21,
   "metadata": {},
   "outputs": [],
   "source": [
    "train_copy[\"최고기온\"].fillna(train_copy[\"최고기온\"].bfill(), inplace=True)\n",
    "train_copy[\"최저기온\"].fillna(train_copy[\"최저기온\"].bfill(), inplace=True)\n",
    "train_copy[\"일교차\"].fillna(train_copy[\"일교차\"].bfill(), inplace=True)\n",
    "train_copy[\"평균풍속\"].fillna(train_copy[\"평균풍속\"].bfill(), inplace=True)\n",
    "train_copy[\"일조합\"].fillna(train_copy[\"일조합\"].bfill(), inplace = True)\n",
    "train_copy[\"일사합\"].fillna(train_copy[\"일사합\"].bfill(), inplace=True)\n",
    "train_copy[\"일조율\"].fillna(train_copy[\"일조율\"].bfill(), inplace=True)\n",
    "train_copy[\"강수량\"].fillna(0, inplace=True)"
   ]
  },
  {
   "cell_type": "code",
   "execution_count": 22,
   "metadata": {},
   "outputs": [
    {
     "data": {
      "text/plain": [
       "일시      0\n",
       "최고기온    0\n",
       "최저기온    0\n",
       "일교차     0\n",
       "강수량     0\n",
       "평균습도    0\n",
       "평균풍속    0\n",
       "일조합     0\n",
       "일사합     0\n",
       "일조율     0\n",
       "평균기온    0\n",
       "dtype: int64"
      ]
     },
     "execution_count": 22,
     "metadata": {},
     "output_type": "execute_result"
    }
   ],
   "source": [
    "train_copy.isnull().sum()"
   ]
  },
  {
   "cell_type": "code",
   "execution_count": 23,
   "metadata": {},
   "outputs": [
    {
     "data": {
      "text/plain": [
       "array([[<AxesSubplot:title={'center':'최고기온'}>,\n",
       "        <AxesSubplot:title={'center':'최저기온'}>,\n",
       "        <AxesSubplot:title={'center':'일교차'}>],\n",
       "       [<AxesSubplot:title={'center':'강수량'}>,\n",
       "        <AxesSubplot:title={'center':'평균습도'}>,\n",
       "        <AxesSubplot:title={'center':'평균풍속'}>],\n",
       "       [<AxesSubplot:title={'center':'일조합'}>,\n",
       "        <AxesSubplot:title={'center':'일사합'}>,\n",
       "        <AxesSubplot:title={'center':'일조율'}>],\n",
       "       [<AxesSubplot:title={'center':'평균기온'}>, <AxesSubplot:>,\n",
       "        <AxesSubplot:>]], dtype=object)"
      ]
     },
     "execution_count": 23,
     "metadata": {},
     "output_type": "execute_result"
    },
    {
     "data": {
      "image/png": "[encoded data removed]",
      "text/plain": [
       "<Figure size 1080x1080 with 12 Axes>"
      ]
     },
     "metadata": {},
     "output_type": "display_data"
    }
   ],
   "source": [
    "train_copy.hist(figsize=(15,15))"
   ]
  },
  {
   "cell_type": "code",
   "execution_count": 24,
   "metadata": {},
   "outputs": [
    {
     "data": {
      "text/html": [
       "<div>\n",
       "<style scoped>\n",
       "    .dataframe tbody tr th:only-of-type {\n",
       "        vertical-align: middle;\n",
       "    }\n",
       "\n",
       "    .dataframe tbody tr th {\n",
       "        vertical-align: top;\n",
       "    }\n",
       "\n",
       "    .dataframe thead th {\n",
       "        text-align: right;\n",
       "    }\n",
       "</style>\n",
       "<table border=\"1\" class=\"dataframe\">\n",
       "  <thead>\n",
       "    <tr style=\"text-align: right;\">\n",
       "      <th></th>\n",
       "      <th>count</th>\n",
       "      <th>mean</th>\n",
       "      <th>std</th>\n",
       "      <th>min</th>\n",
       "      <th>25%</th>\n",
       "      <th>50%</th>\n",
       "      <th>75%</th>\n",
       "      <th>max</th>\n",
       "    </tr>\n",
       "  </thead>\n",
       "  <tbody>\n",
       "    <tr>\n",
       "      <th>최고기온</th>\n",
       "      <td>23011.0</td>\n",
       "      <td>17.071257</td>\n",
       "      <td>10.714039</td>\n",
       "      <td>-13.6</td>\n",
       "      <td>7.80</td>\n",
       "      <td>18.90</td>\n",
       "      <td>26.40</td>\n",
       "      <td>39.60</td>\n",
       "    </tr>\n",
       "    <tr>\n",
       "      <th>최저기온</th>\n",
       "      <td>23011.0</td>\n",
       "      <td>8.452001</td>\n",
       "      <td>10.578244</td>\n",
       "      <td>-20.2</td>\n",
       "      <td>-0.30</td>\n",
       "      <td>9.20</td>\n",
       "      <td>17.90</td>\n",
       "      <td>30.30</td>\n",
       "    </tr>\n",
       "    <tr>\n",
       "      <th>일교차</th>\n",
       "      <td>23011.0</td>\n",
       "      <td>8.619291</td>\n",
       "      <td>2.907101</td>\n",
       "      <td>1.0</td>\n",
       "      <td>6.60</td>\n",
       "      <td>8.60</td>\n",
       "      <td>10.60</td>\n",
       "      <td>19.60</td>\n",
       "    </tr>\n",
       "    <tr>\n",
       "      <th>강수량</th>\n",
       "      <td>23011.0</td>\n",
       "      <td>3.814793</td>\n",
       "      <td>14.625229</td>\n",
       "      <td>0.0</td>\n",
       "      <td>0.00</td>\n",
       "      <td>0.00</td>\n",
       "      <td>0.50</td>\n",
       "      <td>332.80</td>\n",
       "    </tr>\n",
       "    <tr>\n",
       "      <th>평균습도</th>\n",
       "      <td>23011.0</td>\n",
       "      <td>65.202851</td>\n",
       "      <td>14.549077</td>\n",
       "      <td>17.9</td>\n",
       "      <td>54.90</td>\n",
       "      <td>65.50</td>\n",
       "      <td>75.80</td>\n",
       "      <td>99.80</td>\n",
       "    </tr>\n",
       "    <tr>\n",
       "      <th>평균풍속</th>\n",
       "      <td>23011.0</td>\n",
       "      <td>2.380900</td>\n",
       "      <td>0.947545</td>\n",
       "      <td>0.1</td>\n",
       "      <td>1.70</td>\n",
       "      <td>2.20</td>\n",
       "      <td>2.90</td>\n",
       "      <td>7.80</td>\n",
       "    </tr>\n",
       "    <tr>\n",
       "      <th>일조합</th>\n",
       "      <td>23011.0</td>\n",
       "      <td>5.857694</td>\n",
       "      <td>3.815408</td>\n",
       "      <td>0.0</td>\n",
       "      <td>2.20</td>\n",
       "      <td>6.60</td>\n",
       "      <td>9.00</td>\n",
       "      <td>13.70</td>\n",
       "    </tr>\n",
       "    <tr>\n",
       "      <th>일사합</th>\n",
       "      <td>23011.0</td>\n",
       "      <td>10.432268</td>\n",
       "      <td>6.402752</td>\n",
       "      <td>0.0</td>\n",
       "      <td>4.81</td>\n",
       "      <td>9.02</td>\n",
       "      <td>15.04</td>\n",
       "      <td>33.48</td>\n",
       "    </tr>\n",
       "    <tr>\n",
       "      <th>일조율</th>\n",
       "      <td>23011.0</td>\n",
       "      <td>48.326613</td>\n",
       "      <td>31.514588</td>\n",
       "      <td>0.0</td>\n",
       "      <td>18.60</td>\n",
       "      <td>54.70</td>\n",
       "      <td>77.75</td>\n",
       "      <td>96.90</td>\n",
       "    </tr>\n",
       "    <tr>\n",
       "      <th>평균기온</th>\n",
       "      <td>23011.0</td>\n",
       "      <td>12.415419</td>\n",
       "      <td>10.489515</td>\n",
       "      <td>-16.4</td>\n",
       "      <td>3.40</td>\n",
       "      <td>13.80</td>\n",
       "      <td>21.80</td>\n",
       "      <td>33.70</td>\n",
       "    </tr>\n",
       "  </tbody>\n",
       "</table>\n",
       "</div>"
      ],
      "text/plain": [
       "        count       mean        std   min    25%    50%    75%     max\n",
       "최고기온  23011.0  17.071257  10.714039 -13.6   7.80  18.90  26.40   39.60\n",
       "최저기온  23011.0   8.452001  10.578244 -20.2  -0.30   9.20  17.90   30.30\n",
       "일교차   23011.0   8.619291   2.907101   1.0   6.60   8.60  10.60   19.60\n",
       "강수량   23011.0   3.814793  14.625229   0.0   0.00   0.00   0.50  332.80\n",
       "평균습도  23011.0  65.202851  14.549077  17.9  54.90  65.50  75.80   99.80\n",
       "평균풍속  23011.0   2.380900   0.947545   0.1   1.70   2.20   2.90    7.80\n",
       "일조합   23011.0   5.857694   3.815408   0.0   2.20   6.60   9.00   13.70\n",
       "일사합   23011.0  10.432268   6.402752   0.0   4.81   9.02  15.04   33.48\n",
       "일조율   23011.0  48.326613  31.514588   0.0  18.60  54.70  77.75   96.90\n",
       "평균기온  23011.0  12.415419  10.489515 -16.4   3.40  13.80  21.80   33.70"
      ]
     },
     "execution_count": 24,
     "metadata": {},
     "output_type": "execute_result"
    }
   ],
   "source": [
    "train_copy.describe().T"
   ]
  },
  {
   "cell_type": "markdown",
   "metadata": {},
   "source": [
    "Correlation 확인을 위한 Heatmap 작성"
   ]
  },
  {
   "cell_type": "code",
   "execution_count": 25,
   "metadata": {},
   "outputs": [],
   "source": [
    "\n",
    "train_heatmap = train_copy.drop([\"일시\"], axis=1)"
   ]
  },
  {
   "cell_type": "code",
   "execution_count": 26,
   "metadata": {},
   "outputs": [
    {
     "data": {
      "text/plain": [
       "<AxesSubplot:>"
      ]
     },
     "execution_count": 26,
     "metadata": {},
     "output_type": "execute_result"
    },
    {
     "data": {
      "image/png": "[encoded data removed]",
      "text/plain": [
       "<Figure size 576x432 with 2 Axes>"
      ]
     },
     "metadata": {},
     "output_type": "display_data"
    }
   ],
   "source": [
    "plt.figure(figsize = (8,6))\n",
    "sns.heatmap(train_heatmap.corr(), annot=True, cmap = 'RdYlBu_r')"
   ]
  },
  {
   "cell_type": "markdown",
   "metadata": {},
   "source": [
    "평균 기온에 어떤 변화가 있었는지 그 경향성을 파악하기 위한 시각화 작업 "
   ]
  },
  {
   "cell_type": "code",
   "execution_count": 125,
   "metadata": {},
   "outputs": [],
   "source": [
    "# object 형태의 일시 컬럼을 날짜 형태로 변환 \n",
    "train_copy[\"일시\"] = pd.to_datetime(train_copy[\"일시\"])"
   ]
  },
  {
   "cell_type": "code",
   "execution_count": 126,
   "metadata": {},
   "outputs": [
    {
     "data": {
      "text/plain": [
       "일시      datetime64[ns]\n",
       "최고기온           float64\n",
       "최저기온           float64\n",
       "일교차            float64\n",
       "강수량            float64\n",
       "평균습도           float64\n",
       "평균풍속           float64\n",
       "일조합            float64\n",
       "일사합            float64\n",
       "일조율            float64\n",
       "평균기온           float64\n",
       "dtype: object"
      ]
     },
     "execution_count": 126,
     "metadata": {},
     "output_type": "execute_result"
    }
   ],
   "source": [
    "train_copy.dtypes"
   ]
  },
  {
   "cell_type": "code",
   "execution_count": 127,
   "metadata": {},
   "outputs": [],
   "source": [
    "# 일자별 평균 기온을 보기 위해 연, 월, 일 컬럼 추가\n",
    "train_copy['연'] = train_copy['일시'].dt.year\n",
    "train_copy['월'] = train_copy['일시'].dt.month\n",
    "train_copy['일'] = train_copy['일시'].dt.day"
   ]
  },
  {
   "cell_type": "code",
   "execution_count": 128,
   "metadata": {},
   "outputs": [
    {
     "data": {
      "text/html": [
       "<div>\n",
       "<style scoped>\n",
       "    .dataframe tbody tr th:only-of-type {\n",
       "        vertical-align: middle;\n",
       "    }\n",
       "\n",
       "    .dataframe tbody tr th {\n",
       "        vertical-align: top;\n",
       "    }\n",
       "\n",
       "    .dataframe thead th {\n",
       "        text-align: right;\n",
       "    }\n",
       "</style>\n",
       "<table border=\"1\" class=\"dataframe\">\n",
       "  <thead>\n",
       "    <tr style=\"text-align: right;\">\n",
       "      <th></th>\n",
       "      <th>일시</th>\n",
       "      <th>최고기온</th>\n",
       "      <th>최저기온</th>\n",
       "      <th>일교차</th>\n",
       "      <th>강수량</th>\n",
       "      <th>평균습도</th>\n",
       "      <th>평균풍속</th>\n",
       "      <th>일조합</th>\n",
       "      <th>일사합</th>\n",
       "      <th>일조율</th>\n",
       "      <th>평균기온</th>\n",
       "      <th>연</th>\n",
       "      <th>월</th>\n",
       "      <th>일</th>\n",
       "    </tr>\n",
       "  </thead>\n",
       "  <tbody>\n",
       "    <tr>\n",
       "      <th>0</th>\n",
       "      <td>1960-01-01</td>\n",
       "      <td>2.2</td>\n",
       "      <td>-5.2</td>\n",
       "      <td>7.4</td>\n",
       "      <td>0.4</td>\n",
       "      <td>68.3</td>\n",
       "      <td>1.7</td>\n",
       "      <td>6.7</td>\n",
       "      <td>4.81</td>\n",
       "      <td>28.1</td>\n",
       "      <td>-1.6</td>\n",
       "      <td>1960</td>\n",
       "      <td>1</td>\n",
       "      <td>1</td>\n",
       "    </tr>\n",
       "    <tr>\n",
       "      <th>1</th>\n",
       "      <td>1960-01-02</td>\n",
       "      <td>1.2</td>\n",
       "      <td>-5.6</td>\n",
       "      <td>6.8</td>\n",
       "      <td>0.4</td>\n",
       "      <td>87.7</td>\n",
       "      <td>1.3</td>\n",
       "      <td>0.0</td>\n",
       "      <td>4.81</td>\n",
       "      <td>28.1</td>\n",
       "      <td>-1.9</td>\n",
       "      <td>1960</td>\n",
       "      <td>1</td>\n",
       "      <td>2</td>\n",
       "    </tr>\n",
       "    <tr>\n",
       "      <th>2</th>\n",
       "      <td>1960-01-03</td>\n",
       "      <td>8.7</td>\n",
       "      <td>-2.1</td>\n",
       "      <td>10.8</td>\n",
       "      <td>0.0</td>\n",
       "      <td>81.3</td>\n",
       "      <td>3.0</td>\n",
       "      <td>0.0</td>\n",
       "      <td>4.81</td>\n",
       "      <td>28.1</td>\n",
       "      <td>4.0</td>\n",
       "      <td>1960</td>\n",
       "      <td>1</td>\n",
       "      <td>3</td>\n",
       "    </tr>\n",
       "    <tr>\n",
       "      <th>3</th>\n",
       "      <td>1960-01-04</td>\n",
       "      <td>10.8</td>\n",
       "      <td>1.2</td>\n",
       "      <td>9.6</td>\n",
       "      <td>0.0</td>\n",
       "      <td>79.7</td>\n",
       "      <td>4.4</td>\n",
       "      <td>2.6</td>\n",
       "      <td>4.81</td>\n",
       "      <td>28.1</td>\n",
       "      <td>7.5</td>\n",
       "      <td>1960</td>\n",
       "      <td>1</td>\n",
       "      <td>4</td>\n",
       "    </tr>\n",
       "    <tr>\n",
       "      <th>4</th>\n",
       "      <td>1960-01-05</td>\n",
       "      <td>1.3</td>\n",
       "      <td>-8.2</td>\n",
       "      <td>9.5</td>\n",
       "      <td>0.0</td>\n",
       "      <td>44.0</td>\n",
       "      <td>5.1</td>\n",
       "      <td>8.2</td>\n",
       "      <td>4.81</td>\n",
       "      <td>28.1</td>\n",
       "      <td>-4.6</td>\n",
       "      <td>1960</td>\n",
       "      <td>1</td>\n",
       "      <td>5</td>\n",
       "    </tr>\n",
       "    <tr>\n",
       "      <th>...</th>\n",
       "      <td>...</td>\n",
       "      <td>...</td>\n",
       "      <td>...</td>\n",
       "      <td>...</td>\n",
       "      <td>...</td>\n",
       "      <td>...</td>\n",
       "      <td>...</td>\n",
       "      <td>...</td>\n",
       "      <td>...</td>\n",
       "      <td>...</td>\n",
       "      <td>...</td>\n",
       "      <td>...</td>\n",
       "      <td>...</td>\n",
       "      <td>...</td>\n",
       "    </tr>\n",
       "    <tr>\n",
       "      <th>23006</th>\n",
       "      <td>2022-12-27</td>\n",
       "      <td>3.3</td>\n",
       "      <td>-7.3</td>\n",
       "      <td>10.6</td>\n",
       "      <td>0.1</td>\n",
       "      <td>69.8</td>\n",
       "      <td>1.8</td>\n",
       "      <td>8.8</td>\n",
       "      <td>10.25</td>\n",
       "      <td>91.7</td>\n",
       "      <td>-2.6</td>\n",
       "      <td>2022</td>\n",
       "      <td>12</td>\n",
       "      <td>27</td>\n",
       "    </tr>\n",
       "    <tr>\n",
       "      <th>23007</th>\n",
       "      <td>2022-12-28</td>\n",
       "      <td>0.1</td>\n",
       "      <td>-6.0</td>\n",
       "      <td>6.1</td>\n",
       "      <td>0.1</td>\n",
       "      <td>58.1</td>\n",
       "      <td>2.5</td>\n",
       "      <td>8.7</td>\n",
       "      <td>10.86</td>\n",
       "      <td>90.6</td>\n",
       "      <td>-3.3</td>\n",
       "      <td>2022</td>\n",
       "      <td>12</td>\n",
       "      <td>28</td>\n",
       "    </tr>\n",
       "    <tr>\n",
       "      <th>23008</th>\n",
       "      <td>2022-12-29</td>\n",
       "      <td>2.1</td>\n",
       "      <td>-7.8</td>\n",
       "      <td>9.9</td>\n",
       "      <td>0.0</td>\n",
       "      <td>56.3</td>\n",
       "      <td>1.7</td>\n",
       "      <td>9.0</td>\n",
       "      <td>10.88</td>\n",
       "      <td>93.8</td>\n",
       "      <td>-2.9</td>\n",
       "      <td>2022</td>\n",
       "      <td>12</td>\n",
       "      <td>29</td>\n",
       "    </tr>\n",
       "    <tr>\n",
       "      <th>23009</th>\n",
       "      <td>2022-12-30</td>\n",
       "      <td>2.3</td>\n",
       "      <td>-4.4</td>\n",
       "      <td>6.7</td>\n",
       "      <td>0.0</td>\n",
       "      <td>65.6</td>\n",
       "      <td>1.9</td>\n",
       "      <td>7.9</td>\n",
       "      <td>10.84</td>\n",
       "      <td>82.3</td>\n",
       "      <td>-1.8</td>\n",
       "      <td>2022</td>\n",
       "      <td>12</td>\n",
       "      <td>30</td>\n",
       "    </tr>\n",
       "    <tr>\n",
       "      <th>23010</th>\n",
       "      <td>2022-12-31</td>\n",
       "      <td>2.1</td>\n",
       "      <td>-5.1</td>\n",
       "      <td>7.2</td>\n",
       "      <td>0.0</td>\n",
       "      <td>65.5</td>\n",
       "      <td>1.4</td>\n",
       "      <td>1.1</td>\n",
       "      <td>4.16</td>\n",
       "      <td>11.5</td>\n",
       "      <td>-1.2</td>\n",
       "      <td>2022</td>\n",
       "      <td>12</td>\n",
       "      <td>31</td>\n",
       "    </tr>\n",
       "  </tbody>\n",
       "</table>\n",
       "<p>23011 rows × 14 columns</p>\n",
       "</div>"
      ],
      "text/plain": [
       "              일시  최고기온  최저기온   일교차  강수량  평균습도  평균풍속  일조합    일사합   일조율  평균기온  \\\n",
       "0     1960-01-01   2.2  -5.2   7.4  0.4  68.3   1.7  6.7   4.81  28.1  -1.6   \n",
       "1     1960-01-02   1.2  -5.6   6.8  0.4  87.7   1.3  0.0   4.81  28.1  -1.9   \n",
       "2     1960-01-03   8.7  -2.1  10.8  0.0  81.3   3.0  0.0   4.81  28.1   4.0   \n",
       "3     1960-01-04  10.8   1.2   9.6  0.0  79.7   4.4  2.6   4.81  28.1   7.5   \n",
       "4     1960-01-05   1.3  -8.2   9.5  0.0  44.0   5.1  8.2   4.81  28.1  -4.6   \n",
       "...          ...   ...   ...   ...  ...   ...   ...  ...    ...   ...   ...   \n",
       "23006 2022-12-27   3.3  -7.3  10.6  0.1  69.8   1.8  8.8  10.25  91.7  -2.6   \n",
       "23007 2022-12-28   0.1  -6.0   6.1  0.1  58.1   2.5  8.7  10.86  90.6  -3.3   \n",
       "23008 2022-12-29   2.1  -7.8   9.9  0.0  56.3   1.7  9.0  10.88  93.8  -2.9   \n",
       "23009 2022-12-30   2.3  -4.4   6.7  0.0  65.6   1.9  7.9  10.84  82.3  -1.8   \n",
       "23010 2022-12-31   2.1  -5.1   7.2  0.0  65.5   1.4  1.1   4.16  11.5  -1.2   \n",
       "\n",
       "          연   월   일  \n",
       "0      1960   1   1  \n",
       "1      1960   1   2  \n",
       "2      1960   1   3  \n",
       "3      1960   1   4  \n",
       "4      1960   1   5  \n",
       "...     ...  ..  ..  \n",
       "23006  2022  12  27  \n",
       "23007  2022  12  28  \n",
       "23008  2022  12  29  \n",
       "23009  2022  12  30  \n",
       "23010  2022  12  31  \n",
       "\n",
       "[23011 rows x 14 columns]"
      ]
     },
     "execution_count": 128,
     "metadata": {},
     "output_type": "execute_result"
    }
   ],
   "source": [
    "train_copy"
   ]
  },
  {
   "cell_type": "code",
   "execution_count": 129,
   "metadata": {},
   "outputs": [
    {
     "data": {
      "application/vnd.plotly.v1+json": {
       "config": {
        "plotlyServerURL": "https://plot.ly"
       },
       "data": [
        {
         "coloraxis": "coloraxis",
         "hovertemplate": "연: %{x}<br>월: %{y}<br>color: %{z}<extra></extra>",
         "name": "0",
         "type": "heatmap",
         "x": [
          1960,
          1961,
          1962,
          1963,
          1964,
          1965,
          1966,
          1967,
          1968,
          1969,
          1970,
          1971,
          1972,
          1973,
          1974,
          1975,
          1976,
          1977,
          1978,
          1979,
          1980,
          1981,
          1982,
          1983,
          1984,
          1985,
          1986,
          1987,
          1988,
          1989,
          1990,
          1991,
          1992,
          1993,
          1994,
          1995,
          1996,
          1997,
          1998,
          1999,
          2000,
          2001,
          2002,
          2003,
          2004,
          2005,
          2006,
          2007,
          2008,
          2009,
          2010,
          2011,
          2012,
          2013,
          2014,
          2015,
          2016,
          2017,
          2018,
          2019,
          2020,
          2021,
          2022
         ],
         "xaxis": "x",
         "y": [
          1,
          2,
          3,
          4,
          5,
          6,
          7,
          8,
          9,
          10,
          11,
          12
         ],
         "yaxis": "y",
         "z": [
          [
           -3.3161290322580643,
           -5.245161290322581,
           -3.429032258064516,
           -9.154838709677419,
           -0.12580645161290321,
           -4.229032258064516,
           -4.65483870967742,
           -4.458064516129032,
           -3.967741935483871,
           -3.467741935483871,
           -4.764516129032257,
           -2.4387096774193546,
           0.8193548387096774,
           0.3806451612903226,
           -2.458064516129032,
           -2.690322580645161,
           -3.829032258064516,
           -6.712903225806452,
           -2.42258064516129,
           0.8516129032258064,
           -3.6903225806451614,
           -7.032258064516129,
           -3.5548387096774197,
           -1.729032258064516,
           -5.864516129032258,
           -5.867741935483871,
           -5.419354838709677,
           -3.02258064516129,
           -2.141935483870968,
           0.767741935483871,
           -3.203225806451613,
           -2.609677419354839,
           -0.1935483870967742,
           -1.929032258064516,
           -0.864516129032258,
           -2.0999999999999996,
           -2.1870967741935483,
           -3.2838709677419353,
           -1.3580645161290323,
           -0.7612903225806452,
           -2.061290322580645,
           -4.158064516129032,
           0.27096774193548384,
           -2.551612903225806,
           -1.558064516129032,
           -2.5161290322580645,
           -0.21290322580645163,
           0.39354838709677414,
           -1.6838709677419357,
           -1.964516129032258,
           -4.496774193548387,
           -7.183870967741935,
           -2.7870967741935484,
           -3.432258064516129,
           -0.6774193548387096,
           -0.9354838709677419,
           -3.2,
           -1.8290322580645162,
           -3.97741935483871,
           -0.8967741935483872,
           1.6258064516129032,
           -2.370967741935484,
           -2.196774193548387
          ],
          [
           1.7413793103448276,
           -0.8964285714285715,
           -0.6964285714285714,
           -2.457142857142857,
           -3.4827586206896552,
           -1.2392857142857143,
           0.1392857142857143,
           -2.442857142857143,
           -4.437931034482758,
           -2.710714285714286,
           -0.1892857142857143,
           -0.7321428571428571,
           -0.5827586206896551,
           0.5714285714285714,
           -2.0785714285714283,
           -0.8178571428571428,
           2.8344827586206898,
           -2.417857142857143,
           -2.482142857142857,
           0.6428571428571429,
           -3.1413793103448273,
           -1.4142857142857144,
           0.5678571428571428,
           -1.6964285714285714,
           -3.5344827586206895,
           -0.3071428571428571,
           -3.35,
           -0.12142857142857136,
           -1.4793103448275864,
           2.414285714285714,
           2.682142857142857,
           -0.8785714285714287,
           0.7310344827586208,
           0.9821428571428571,
           0.7785714285714286,
           1.2428571428571427,
           -1.5896551724137928,
           0.6714285714285714,
           3.35,
           0.692857142857143,
           -1.6689655172413793,
           -0.2892857142857143,
           2.9,
           2.6571428571428575,
           2.3068965517241375,
           -1.9428571428571428,
           0.10357142857142855,
           3.957142857142857,
           -1.186206896551724,
           2.939285714285714,
           1.4142857142857141,
           1.2214285714285713,
           -2.0448275862068965,
           -1.2392857142857143,
           1.9285714285714286,
           1.042857142857143,
           0.1931034482758621,
           -0.24642857142857139,
           -1.6464285714285711,
           0.9857142857142857,
           2.5344827586206895,
           2.732142857142857,
           -1.125
          ],
          [
           6.66774193548387,
           5.403225806451613,
           3.2,
           5.464516129032258,
           3.8483870967741933,
           2.725806451612903,
           4.796774193548386,
           4.754838709677419,
           4.419354838709677,
           2.948387096774194,
           0.37419354838709684,
           2.035483870967742,
           5.303225806451613,
           4.458064516129032,
           3.6870967741935483,
           4.370967741935484,
           4.84516129032258,
           5.393548387096774,
           4.170967741935484,
           5.95483870967742,
           5.232258064516128,
           5.683870967741935,
           5.906451612903226,
           6.383870967741935,
           2.4806451612903224,
           4.338709677419355,
           4.948387096774193,
           3.990322580645161,
           4.319354838709677,
           6.080645161290323,
           7.174193548387097,
           4.9,
           7.612903225806452,
           5.819354838709677,
           4.029032258064516,
           6.009677419354838,
           4.880645161290323,
           6.812903225806451,
           7.329032258064516,
           6.658064516129032,
           6.33225806451613,
           4.987096774193549,
           7.641935483870968,
           6.493548387096775,
           6.280645161290322,
           4.132258064516129,
           5.180645161290323,
           6.054838709677419,
           7.348387096774194,
           6.012903225806451,
           4.267741935483872,
           3.616129032258064,
           5.090322580645162,
           5.135483870967741,
           7.890322580645161,
           6.290322580645161,
           7.04516129032258,
           6.325806451612903,
           8.080645161290322,
           7.093548387096774,
           7.735483870967743,
           9.016129032258064,
           7.65483870967742
          ],
          [
           10.57,
           11.733333333333333,
           9.966666666666667,
           11.379999999999999,
           14.139999999999999,
           10.25,
           11.756666666666666,
           11.826666666666666,
           12.6,
           10.626666666666667,
           12.183333333333334,
           11.203333333333335,
           11.466666666666667,
           12.363333333333333,
           10.72,
           13.32,
           11.306666666666667,
           12.483333333333333,
           11.493333333333334,
           11.17,
           10.120000000000001,
           11.85,
           12.326666666666666,
           13.57,
           12.103333333333333,
           11.626666666666667,
           11.926666666666668,
           10.83,
           11.34,
           14.34,
           11.26,
           13.013333333333332,
           11.976666666666667,
           10.58,
           15.21,
           11.3,
           10.233333333333333,
           12.953333333333335,
           15.610000000000001,
           13.896666666666667,
           11.876666666666667,
           13.563333333333333,
           13.566666666666666,
           13.16,
           13.143333333333334,
           13.226666666666667,
           11.55,
           11.360000000000001,
           14.116666666666667,
           12.71,
           9.523333333333333,
           10.72,
           12.34,
           10.006666666666666,
           13.963333333333333,
           13.326666666666666,
           14.066666666666666,
           13.933333333333334,
           12.986666666666668,
           12.120000000000001,
           11.123333333333333,
           14.196666666666665,
           14.753333333333332
          ],
          [
           16.53548387096774,
           17.345161290322583,
           17.55483870967742,
           16.92258064516129,
           18.58709677419355,
           17.270967741935483,
           18.31935483870968,
           19.258064516129032,
           17.219354838709677,
           16.43548387096774,
           18.700000000000003,
           16.593548387096774,
           16.383870967741935,
           17.432258064516127,
           16.664516129032258,
           16.687096774193545,
           16.716129032258067,
           17.370967741935484,
           18.5,
           16.496774193548386,
           16.5,
           15.932258064516128,
           17.85483870967742,
           18.548387096774192,
           18.23548387096774,
           18.112903225806452,
           17.09032258064516,
           17.019354838709678,
           17.883870967741935,
           17.90967741935484,
           16.16774193548387,
           17.519354838709678,
           16.40967741935484,
           18.24516129032258,
           17.861290322580647,
           17.141935483870967,
           18.358064516129033,
           17.019354838709678,
           19.04516129032258,
           17.503225806451614,
           17.493548387096773,
           19.1,
           18.15806451612903,
           19.551612903225806,
           17.612903225806452,
           17.72258064516129,
           18.44193548387097,
           18.096774193548388,
           17.654838709677417,
           19.125806451612902,
           17.151612903225807,
           17.925806451612903,
           19.73225806451613,
           18.22258064516129,
           18.94516129032258,
           18.883870967741935,
           19.55806451612903,
           19.490322580645163,
           18.16774193548387,
           19.419354838709676,
           18.006451612903227,
           17.067741935483873,
           19.12258064516129
          ],
          [
           20.583333333333332,
           21.873333333333335,
           21.126666666666665,
           21.209999999999997,
           21.553333333333335,
           22.123333333333335,
           20.483333333333334,
           21.323333333333334,
           20.973333333333336,
           19.983333333333334,
           20.470000000000002,
           21.62,
           21.726666666666667,
           21.366666666666667,
           19.67,
           21.403333333333332,
           21.316666666666666,
           22.509999999999998,
           21.866666666666667,
           21.373333333333335,
           21.566666666666666,
           21.833333333333332,
           21.916666666666668,
           22.206666666666667,
           22.63,
           22.063333333333333,
           21.86,
           22.39333333333333,
           22.253333333333334,
           21.2,
           20.743333333333332,
           22.563333333333333,
           20.85,
           21.293333333333333,
           22.75,
           21.60666666666667,
           22.293333333333333,
           23.366666666666667,
           21.876666666666665,
           23.09333333333333,
           23.73,
           22.533333333333335,
           22.233333333333334,
           21.546666666666667,
           23.2,
           22.65666666666667,
           21.796666666666667,
           23.183333333333334,
           21.52,
           22.426666666666666,
           23.4,
           21.976666666666667,
           24.14,
           24.41,
           23.063333333333333,
           23.586666666666666,
           23.596666666666668,
           23.273333333333333,
           23.136666666666667,
           22.503333333333334,
           23.886666666666667,
           22.816666666666666,
           23.303333333333335
          ],
          [
           24.835483870967742,
           26.23225806451613,
           26.05483870967742,
           24.45483870967742,
           24.664516129032258,
           24.08709677419355,
           23.6,
           25.461290322580645,
           24.65806451612903,
           24.016129032258064,
           23.029032258064515,
           23.932258064516127,
           25.654838709677417,
           26.816129032258065,
           23.541935483870965,
           24.925806451612903,
           23.10967741935484,
           26.019354838709678,
           26.44516129032258,
           24.32903225806452,
           22.741935483870968,
           25.39032258064516,
           25.103225806451615,
           23.55483870967742,
           25.225806451612904,
           25.299999999999997,
           23.45483870967742,
           23.687096774193545,
           24.35483870967742,
           24.458064516129035,
           24.932258064516127,
           24.34193548387097,
           24.838709677419356,
           23.299999999999997,
           28.532258064516128,
           24.490322580645163,
           24.37741935483871,
           26.116129032258065,
           24.916129032258063,
           25.858064516129033,
           26.780645161290323,
           25.86774193548387,
           25.248387096774195,
           23.848387096774193,
           24.845161290322583,
           25.306451612903224,
           23.138709677419353,
           24.16774193548387,
           25.129032258064516,
           24.299999999999997,
           25.774193548387096,
           24.638709677419353,
           25.41290322580645,
           25.519354838709678,
           26.148387096774194,
           25.835483870967742,
           26.23548387096774,
           26.92258064516129,
           27.796774193548387,
           25.87741935483871,
           24.14516129032258,
           28.11935483870968,
           27.32903225806452
          ],
          [
           26.22258064516129,
           26.796774193548387,
           25.103225806451615,
           25.712903225806453,
           26.30322580645161,
           24.406451612903226,
           26.725806451612904,
           26.687096774193545,
           24.925806451612903,
           24.848387096774193,
           25.864516129032257,
           24.580645161290324,
           23.051612903225806,
           25.883870967741935,
           25.14516129032258,
           26.98709677419355,
           23.651612903225807,
           24.612903225806452,
           25.812903225806455,
           25.416129032258063,
           22.838709677419356,
           24.53548387096774,
           25.40967741935484,
           26,
           26.30322580645161,
           26.32903225806452,
           24.490322580645163,
           24.35483870967742,
           26.43548387096774,
           25.496774193548386,
           26.37741935483871,
           25.483870967741936,
           24.793548387096774,
           23.15806451612903,
           27.625806451612902,
           26.029032258064515,
           26.03548387096774,
           26.848387096774193,
           25.01290322580645,
           25.983870967741936,
           26.17096774193548,
           26.47741935483871,
           24.206451612903226,
           24.1,
           26.116129032258065,
           25.125806451612902,
           27.038709677419355,
           26.458064516129035,
           25.306451612903224,
           25.703225806451613,
           26.480645161290322,
           25.774193548387096,
           27.13225806451613,
           27.69677419354839,
           25.164516129032258,
           26.26774193548387,
           27.996774193548386,
           25.916129032258063,
           28.761290322580646,
           27.190322580645162,
           26.519354838709678,
           25.858064516129033,
           25.741935483870968
          ],
          [
           20.776666666666664,
           21.456666666666667,
           20.3,
           20.533333333333335,
           20.27,
           20.85666666666667,
           19.720000000000002,
           20.686666666666667,
           20.873333333333335,
           20.766666666666666,
           21.23,
           20.61,
           18.983333333333334,
           20.323333333333334,
           20.61,
           22.55666666666667,
           19.92,
           21.503333333333334,
           20.94,
           20.07,
           19.63,
           20.033333333333335,
           20.813333333333333,
           21.983333333333334,
           20.086666666666666,
           20.176666666666666,
           19.876666666666665,
           20.05666666666667,
           21.413333333333334,
           20.666666666666668,
           21.12,
           21.1,
           20.85,
           21.183333333333334,
           21.016666666666666,
           20.003333333333334,
           21.976666666666667,
           20.173333333333336,
           22.98,
           22.886666666666667,
           20.666666666666668,
           22.456666666666667,
           21.566666666666666,
           20.903333333333332,
           21.743333333333332,
           21.84,
           21.096666666666668,
           21.543333333333333,
           22.046666666666667,
           21.75,
           21.813333333333333,
           21.75,
           20.96333333333333,
           21.753333333333334,
           22.063333333333333,
           22.39,
           23.083333333333332,
           22.103333333333335,
           21.496666666666666,
           22.64333333333333,
           21.39333333333333,
           22.596666666666668,
           22.353333333333335
          ],
          [
           15.106451612903227,
           15.64516129032258,
           13.606451612903227,
           13.516129032258064,
           13.841935483870968,
           14.790322580645162,
           14.419354838709678,
           14.480645161290322,
           12.974193548387097,
           13.870967741935484,
           14.86774193548387,
           12.97741935483871,
           13.825806451612904,
           13.038709677419355,
           12.619354838709677,
           15.361290322580645,
           13.712903225806452,
           16.693548387096776,
           14.493548387096775,
           15.851612903225806,
           12.958064516129031,
           13.358064516129033,
           15.8,
           14.167741935483871,
           13.832258064516129,
           14.680645161290323,
           12.696774193548388,
           15.470967741935485,
           14.98709677419355,
           13.635483870967741,
           15.448387096774193,
           13.838709677419354,
           14.019354838709678,
           13.422580645161291,
           15.2,
           15.52258064516129,
           14.483870967741936,
           13.422580645161291,
           17.04516129032258,
           14.258064516129032,
           14.880645161290323,
           16.50967741935484,
           12.82258064516129,
           13.919354838709678,
           15.235483870967743,
           14.66451612903226,
           17.932258064516127,
           15.093548387096773,
           16.148387096774194,
           15.974193548387097,
           14.516129032258064,
           14.222580645161292,
           15.348387096774195,
           15.77741935483871,
           15.635483870967741,
           15.506451612903225,
           16.080645161290324,
           16.40967741935484,
           13.05483870967742,
           16.370967741935484,
           14.290322580645162,
           15.574193548387097,
           14.564516129032258
          ],
          [
           7.0633333333333335,
           8.926666666666668,
           6.366666666666666,
           6.546666666666667,
           6.316666666666666,
           6.98,
           5.926666666666667,
           6.536666666666666,
           7.573333333333333,
           4.956666666666666,
           5.676666666666667,
           8.736666666666668,
           5.236666666666666,
           4.723333333333333,
           5.373333333333333,
           8.986666666666668,
           3.5433333333333334,
           7.626666666666667,
           7.883333333333334,
           5.66,
           8.593333333333334,
           3.603333333333333,
           7.930000000000001,
           6.676666666666667,
           8.1,
           5.63,
           5.22,
           7.510000000000001,
           5.4766666666666675,
           7.076666666666667,
           10.01,
           6.4766666666666675,
           6.17,
           8.506666666666666,
           9.266666666666667,
           6.21,
           6.136666666666667,
           8.84,
           7.336666666666667,
           7.88,
           6.953333333333333,
           7.046666666666667,
           4.03,
           9.523333333333333,
           9.110000000000001,
           8.566666666666666,
           8.35,
           6.739999999999999,
           7.623333333333333,
           6.89,
           6.493333333333334,
           10.686666666666667,
           5.54,
           6.15,
           8.953333333333335,
           8.9,
           6.7733333333333325,
           5.626666666666667,
           7.793333333333334,
           7.58,
           8.026666666666667,
           8.18,
           10.03
          ],
          [
           -1.8580645161290323,
           -0.6516129032258065,
           1.070967741935484,
           0.7580645161290323,
           0.1548387096774194,
           -2.02258064516129,
           -3.032258064516129,
           -4.925806451612903,
           3.0806451612903225,
           -2.0451612903225804,
           -1.058064516129032,
           -1.1774193548387097,
           0.6451612903225806,
           -2.97741935483871,
           -0.535483870967742,
           -1.6193548387096772,
           0.40645161290322585,
           2.435483870967742,
           1.6483870967741934,
           1.3838709677419354,
           -3.8225806451612905,
           0.1225806451612904,
           -0.1193548387096774,
           -1.1129032258064515,
           -0.8774193548387098,
           -3.403225806451613,
           1.9,
           0.9064516129032258,
           0.12258064516129032,
           1.4258064516129034,
           0.7516129032258064,
           2.174193548387097,
           1.5129032258064516,
           -0.19354838709677422,
           1.1451612903225807,
           -0.996774193548387,
           1.5774193548387097,
           1.7870967741935484,
           2.274193548387097,
           0.39354838709677414,
           0.8806451612903226,
           -0.5935483870967742,
           1.670967741935484,
           0.7354838709677419,
           1.9161290322580644,
           -3.9,
           1.4129032258064516,
           1.7548387096774194,
           1.067741935483871,
           -1.0096774193548388,
           -1.2774193548387098,
           -0.8709677419354839,
           -4.119354838709677,
           -0.1838709677419355,
           -2.9193548387096775,
           1.5935483870967742,
           1.2451612903225806,
           -1.929032258064516,
           -0.6064516129032258,
           1.4161290322580644,
           -0.3516129032258065,
           0.5838709677419355,
           -2.8161290322580643
          ]
         ]
        }
       ],
       "layout": {
        "coloraxis": {
         "colorscale": [
          [
           0,
           "#0d0887"
          ],
          [
           0.1111111111111111,
           "#46039f"
          ],
          [
           0.2222222222222222,
           "#7201a8"
          ],
          [
           0.3333333333333333,
           "#9c179e"
          ],
          [
           0.4444444444444444,
           "#bd3786"
          ],
          [
           0.5555555555555556,
           "#d8576b"
          ],
          [
           0.6666666666666666,
           "#ed7953"
          ],
          [
           0.7777777777777778,
           "#fb9f3a"
          ],
          [
           0.8888888888888888,
           "#fdca26"
          ],
          [
           1,
           "#f0f921"
          ]
         ]
        },
        "margin": {
         "t": 60
        },
        "template": {
         "data": {
          "bar": [
           {
            "error_x": {
             "color": "#2a3f5f"
            },
            "error_y": {
             "color": "#2a3f5f"
            },
            "marker": {
             "line": {
              "color": "#E5ECF6",
              "width": 0.5
             },
             "pattern": {
              "fillmode": "overlay",
              "size": 10,
              "solidity": 0.2
             }
            },
            "type": "bar"
           }
          ],
          "barpolar": [
           {
            "marker": {
             "line": {
              "color": "#E5ECF6",
              "width": 0.5
             },
             "pattern": {
              "fillmode": "overlay",
              "size": 10,
              "solidity": 0.2
             }
            },
            "type": "barpolar"
           }
          ],
          "carpet": [
           {
            "aaxis": {
             "endlinecolor": "#2a3f5f",
             "gridcolor": "white",
             "linecolor": "white",
             "minorgridcolor": "white",
             "startlinecolor": "#2a3f5f"
            },
            "baxis": {
             "endlinecolor": "#2a3f5f",
             "gridcolor": "white",
             "linecolor": "white",
             "minorgridcolor": "white",
             "startlinecolor": "#2a3f5f"
            },
            "type": "carpet"
           }
          ],
          "choropleth": [
           {
            "colorbar": {
             "outlinewidth": 0,
             "ticks": ""
            },
            "type": "choropleth"
           }
          ],
          "contour": [
           {
            "colorbar": {
             "outlinewidth": 0,
             "ticks": ""
            },
            "colorscale": [
             [
              0,
              "#0d0887"
             ],
             [
              0.1111111111111111,
              "#46039f"
             ],
             [
              0.2222222222222222,
              "#7201a8"
             ],
             [
              0.3333333333333333,
              "#9c179e"
             ],
             [
              0.4444444444444444,
              "#bd3786"
             ],
             [
              0.5555555555555556,
              "#d8576b"
             ],
             [
              0.6666666666666666,
              "#ed7953"
             ],
             [
              0.7777777777777778,
              "#fb9f3a"
             ],
             [
              0.8888888888888888,
              "#fdca26"
             ],
             [
              1,
              "#f0f921"
             ]
            ],
            "type": "contour"
           }
          ],
          "contourcarpet": [
           {
            "colorbar": {
             "outlinewidth": 0,
             "ticks": ""
            },
            "type": "contourcarpet"
           }
          ],
          "heatmap": [
           {
            "colorbar": {
             "outlinewidth": 0,
             "ticks": ""
            },
            "colorscale": [
             [
              0,
              "#0d0887"
             ],
             [
              0.1111111111111111,
              "#46039f"
             ],
             [
              0.2222222222222222,
              "#7201a8"
             ],
             [
              0.3333333333333333,
              "#9c179e"
             ],
             [
              0.4444444444444444,
              "#bd3786"
             ],
             [
              0.5555555555555556,
              "#d8576b"
             ],
             [
              0.6666666666666666,
              "#ed7953"
             ],
             [
              0.7777777777777778,
              "#fb9f3a"
             ],
             [
              0.8888888888888888,
              "#fdca26"
             ],
             [
              1,
              "#f0f921"
             ]
            ],
            "type": "heatmap"
           }
          ],
          "heatmapgl": [
           {
            "colorbar": {
             "outlinewidth": 0,
             "ticks": ""
            },
            "colorscale": [
             [
              0,
              "#0d0887"
             ],
             [
              0.1111111111111111,
              "#46039f"
             ],
             [
              0.2222222222222222,
              "#7201a8"
             ],
             [
              0.3333333333333333,
              "#9c179e"
             ],
             [
              0.4444444444444444,
              "#bd3786"
             ],
             [
              0.5555555555555556,
              "#d8576b"
             ],
             [
              0.6666666666666666,
              "#ed7953"
             ],
             [
              0.7777777777777778,
              "#fb9f3a"
             ],
             [
              0.8888888888888888,
              "#fdca26"
             ],
             [
              1,
              "#f0f921"
             ]
            ],
            "type": "heatmapgl"
           }
          ],
          "histogram": [
           {
            "marker": {
             "pattern": {
              "fillmode": "overlay",
              "size": 10,
              "solidity": 0.2
             }
            },
            "type": "histogram"
           }
          ],
          "histogram2d": [
           {
            "colorbar": {
             "outlinewidth": 0,
             "ticks": ""
            },
            "colorscale": [
             [
              0,
              "#0d0887"
             ],
             [
              0.1111111111111111,
              "#46039f"
             ],
             [
              0.2222222222222222,
              "#7201a8"
             ],
             [
              0.3333333333333333,
              "#9c179e"
             ],
             [
              0.4444444444444444,
              "#bd3786"
             ],
             [
              0.5555555555555556,
              "#d8576b"
             ],
             [
              0.6666666666666666,
              "#ed7953"
             ],
             [
              0.7777777777777778,
              "#fb9f3a"
             ],
             [
              0.8888888888888888,
              "#fdca26"
             ],
             [
              1,
              "#f0f921"
             ]
            ],
            "type": "histogram2d"
           }
          ],
          "histogram2dcontour": [
           {
            "colorbar": {
             "outlinewidth": 0,
             "ticks": ""
            },
            "colorscale": [
             [
              0,
              "#0d0887"
             ],
             [
              0.1111111111111111,
              "#46039f"
             ],
             [
              0.2222222222222222,
              "#7201a8"
             ],
             [
              0.3333333333333333,
              "#9c179e"
             ],
             [
              0.4444444444444444,
              "#bd3786"
             ],
             [
              0.5555555555555556,
              "#d8576b"
             ],
             [
              0.6666666666666666,
              "#ed7953"
             ],
             [
              0.7777777777777778,
              "#fb9f3a"
             ],
             [
              0.8888888888888888,
              "#fdca26"
             ],
             [
              1,
              "#f0f921"
             ]
            ],
            "type": "histogram2dcontour"
           }
          ],
          "mesh3d": [
           {
            "colorbar": {
             "outlinewidth": 0,
             "ticks": ""
            },
            "type": "mesh3d"
           }
          ],
          "parcoords": [
           {
            "line": {
             "colorbar": {
              "outlinewidth": 0,
              "ticks": ""
             }
            },
            "type": "parcoords"
           }
          ],
          "pie": [
           {
            "automargin": true,
            "type": "pie"
           }
          ],
          "scatter": [
           {
            "fillpattern": {
             "fillmode": "overlay",
             "size": 10,
             "solidity": 0.2
            },
            "type": "scatter"
           }
          ],
          "scatter3d": [
           {
            "line": {
             "colorbar": {
              "outlinewidth": 0,
              "ticks": ""
             }
            },
            "marker": {
             "colorbar": {
              "outlinewidth": 0,
              "ticks": ""
             }
            },
            "type": "scatter3d"
           }
          ],
          "scattercarpet": [
           {
            "marker": {
             "colorbar": {
              "outlinewidth": 0,
              "ticks": ""
             }
            },
            "type": "scattercarpet"
           }
          ],
          "scattergeo": [
           {
            "marker": {
             "colorbar": {
              "outlinewidth": 0,
              "ticks": ""
             }
            },
            "type": "scattergeo"
           }
          ],
          "scattergl": [
           {
            "marker": {
             "colorbar": {
              "outlinewidth": 0,
              "ticks": ""
             }
            },
            "type": "scattergl"
           }
          ],
          "scattermapbox": [
           {
            "marker": {
             "colorbar": {
              "outlinewidth": 0,
              "ticks": ""
             }
            },
            "type": "scattermapbox"
           }
          ],
          "scatterpolar": [
           {
            "marker": {
             "colorbar": {
              "outlinewidth": 0,
              "ticks": ""
             }
            },
            "type": "scatterpolar"
           }
          ],
          "scatterpolargl": [
           {
            "marker": {
             "colorbar": {
              "outlinewidth": 0,
              "ticks": ""
             }
            },
            "type": "scatterpolargl"
           }
          ],
          "scatterternary": [
           {
            "marker": {
             "colorbar": {
              "outlinewidth": 0,
              "ticks": ""
             }
            },
            "type": "scatterternary"
           }
          ],
          "surface": [
           {
            "colorbar": {
             "outlinewidth": 0,
             "ticks": ""
            },
            "colorscale": [
             [
              0,
              "#0d0887"
             ],
             [
              0.1111111111111111,
              "#46039f"
             ],
             [
              0.2222222222222222,
              "#7201a8"
             ],
             [
              0.3333333333333333,
              "#9c179e"
             ],
             [
              0.4444444444444444,
              "#bd3786"
             ],
             [
              0.5555555555555556,
              "#d8576b"
             ],
             [
              0.6666666666666666,
              "#ed7953"
             ],
             [
              0.7777777777777778,
              "#fb9f3a"
             ],
             [
              0.8888888888888888,
              "#fdca26"
             ],
             [
              1,
              "#f0f921"
             ]
            ],
            "type": "surface"
           }
          ],
          "table": [
           {
            "cells": {
             "fill": {
              "color": "#EBF0F8"
             },
             "line": {
              "color": "white"
             }
            },
            "header": {
             "fill": {
              "color": "#C8D4E3"
             },
             "line": {
              "color": "white"
             }
            },
            "type": "table"
           }
          ]
         },
         "layout": {
          "annotationdefaults": {
           "arrowcolor": "#2a3f5f",
           "arrowhead": 0,
           "arrowwidth": 1
          },
          "autotypenumbers": "strict",
          "coloraxis": {
           "colorbar": {
            "outlinewidth": 0,
            "ticks": ""
           }
          },
          "colorscale": {
           "diverging": [
            [
             0,
             "#8e0152"
            ],
            [
             0.1,
             "#c51b7d"
            ],
            [
             0.2,
             "#de77ae"
            ],
            [
             0.3,
             "#f1b6da"
            ],
            [
             0.4,
             "#fde0ef"
            ],
            [
             0.5,
             "#f7f7f7"
            ],
            [
             0.6,
             "#e6f5d0"
            ],
            [
             0.7,
             "#b8e186"
            ],
            [
             0.8,
             "#7fbc41"
            ],
            [
             0.9,
             "#4d9221"
            ],
            [
             1,
             "#276419"
            ]
           ],
           "sequential": [
            [
             0,
             "#0d0887"
            ],
            [
             0.1111111111111111,
             "#46039f"
            ],
            [
             0.2222222222222222,
             "#7201a8"
            ],
            [
             0.3333333333333333,
             "#9c179e"
            ],
            [
             0.4444444444444444,
             "#bd3786"
            ],
            [
             0.5555555555555556,
             "#d8576b"
            ],
            [
             0.6666666666666666,
             "#ed7953"
            ],
            [
             0.7777777777777778,
             "#fb9f3a"
            ],
            [
             0.8888888888888888,
             "#fdca26"
            ],
            [
             1,
             "#f0f921"
            ]
           ],
           "sequentialminus": [
            [
             0,
             "#0d0887"
            ],
            [
             0.1111111111111111,
             "#46039f"
            ],
            [
             0.2222222222222222,
             "#7201a8"
            ],
            [
             0.3333333333333333,
             "#9c179e"
            ],
            [
             0.4444444444444444,
             "#bd3786"
            ],
            [
             0.5555555555555556,
             "#d8576b"
            ],
            [
             0.6666666666666666,
             "#ed7953"
            ],
            [
             0.7777777777777778,
             "#fb9f3a"
            ],
            [
             0.8888888888888888,
             "#fdca26"
            ],
            [
             1,
             "#f0f921"
            ]
           ]
          },
          "colorway": [
           "#636efa",
           "#EF553B",
           "#00cc96",
           "#ab63fa",
           "#FFA15A",
           "#19d3f3",
           "#FF6692",
           "#B6E880",
           "#FF97FF",
           "#FECB52"
          ],
          "font": {
           "color": "#2a3f5f"
          },
          "geo": {
           "bgcolor": "white",
           "lakecolor": "white",
           "landcolor": "#E5ECF6",
           "showlakes": true,
           "showland": true,
           "subunitcolor": "white"
          },
          "hoverlabel": {
           "align": "left"
          },
          "hovermode": "closest",
          "mapbox": {
           "style": "light"
          },
          "paper_bgcolor": "white",
          "plot_bgcolor": "#E5ECF6",
          "polar": {
           "angularaxis": {
            "gridcolor": "white",
            "linecolor": "white",
            "ticks": ""
           },
           "bgcolor": "#E5ECF6",
           "radialaxis": {
            "gridcolor": "white",
            "linecolor": "white",
            "ticks": ""
           }
          },
          "scene": {
           "xaxis": {
            "backgroundcolor": "#E5ECF6",
            "gridcolor": "white",
            "gridwidth": 2,
            "linecolor": "white",
            "showbackground": true,
            "ticks": "",
            "zerolinecolor": "white"
           },
           "yaxis": {
            "backgroundcolor": "#E5ECF6",
            "gridcolor": "white",
            "gridwidth": 2,
            "linecolor": "white",
            "showbackground": true,
            "ticks": "",
            "zerolinecolor": "white"
           },
           "zaxis": {
            "backgroundcolor": "#E5ECF6",
            "gridcolor": "white",
            "gridwidth": 2,
            "linecolor": "white",
            "showbackground": true,
            "ticks": "",
            "zerolinecolor": "white"
           }
          },
          "shapedefaults": {
           "line": {
            "color": "#2a3f5f"
           }
          },
          "ternary": {
           "aaxis": {
            "gridcolor": "white",
            "linecolor": "white",
            "ticks": ""
           },
           "baxis": {
            "gridcolor": "white",
            "linecolor": "white",
            "ticks": ""
           },
           "bgcolor": "#E5ECF6",
           "caxis": {
            "gridcolor": "white",
            "linecolor": "white",
            "ticks": ""
           }
          },
          "title": {
           "x": 0.05
          },
          "xaxis": {
           "automargin": true,
           "gridcolor": "white",
           "linecolor": "white",
           "ticks": "",
           "title": {
            "standoff": 15
           },
           "zerolinecolor": "white",
           "zerolinewidth": 2
          },
          "yaxis": {
           "automargin": true,
           "gridcolor": "white",
           "linecolor": "white",
           "ticks": "",
           "title": {
            "standoff": 15
           },
           "zerolinecolor": "white",
           "zerolinewidth": 2
          }
         }
        },
        "xaxis": {
         "anchor": "y",
         "constrain": "domain",
         "domain": [
          0,
          1
         ],
         "scaleanchor": "y",
         "title": {
          "text": "연"
         }
        },
        "yaxis": {
         "anchor": "x",
         "autorange": "reversed",
         "constrain": "domain",
         "domain": [
          0,
          1
         ],
         "title": {
          "text": "월"
         }
        }
       }
      }
     },
     "metadata": {},
     "output_type": "display_data"
    }
   ],
   "source": [
    "g = train_copy.pivot_table('평균기온', '월','연', 'mean')\n",
    "px.imshow(g)"
   ]
  },
  {
   "cell_type": "code",
   "execution_count": 130,
   "metadata": {},
   "outputs": [
    {
     "data": {
      "image/png": "[encoded data removed]",
      "text/plain": [
       "<Figure size 1500x600 with 1 Axes>"
      ]
     },
     "metadata": {},
     "output_type": "display_data"
    }
   ],
   "source": [
    "# 1960년 부터 2020년 까지의 월 평균 온도 변화 확인\n",
    "train_summary = train_copy[train_copy['일시'].dt.year.isin([1960,1970,1980,1990,2000,2010,2020])] # 1960, 1970,1980,1990,2000,2010,2020년 데이터만 추출\n",
    "train_summary\n",
    "summary_groupby = train_summary.groupby(['연','월'])['평균기온'].mean().reset_index() # 연도와 월을 기준으로 Group화하고 DataFrame으로 변환\n",
    "\n",
    "plt.figure(figsize=(15, 6))\n",
    "for year in summary_groupby['연'].unique():\n",
    "    df_year = summary_groupby[summary_groupby['연'] == year]\n",
    "    plt.plot(df_year['월'], df_year['평균기온'], marker='o', label=f'{year}년')\n",
    "\n",
    "# 그래프에 타이틀과 레이블 추가\n",
    "plt.title('연도별 월별 평균 기온')\n",
    "plt.xlabel('월')\n",
    "plt.ylabel('평균 기온')\n",
    "plt.legend()  # 범례 표시\n",
    "\n",
    "# 그래프 표시\n",
    "plt.show()"
   ]
  },
  {
   "cell_type": "markdown",
   "metadata": {},
   "source": [
    "Train, Test, Validation data 분할"
   ]
  },
  {
   "cell_type": "code",
   "execution_count": 192,
   "metadata": {},
   "outputs": [
    {
     "name": "stdout",
     "output_type": "stream",
     "text": [
      "(13806, 9)\n",
      "(4602, 9)\n",
      "(13806,)\n",
      "(4602,)\n",
      "(4603, 9)\n",
      "(4603,)\n"
     ]
    }
   ],
   "source": [
    "from sklearn.model_selection import train_test_split\n",
    "from sklearn.metrics import mean_squared_error\n",
    "from sklearn.ensemble import RandomForestRegressor\n",
    "from sklearn.model_selection import GridSearchCV\n",
    "import math\n",
    "\n",
    "\n",
    "X = train_copy.iloc[:,1:10]\n",
    "y = train_copy['평균기온']\n",
    "X_train, X_test, y_train, y_test = train_test_split(X, y, test_size=0.4, random_state=42)\n",
    "X_test, X_val, y_test, y_val = train_test_split(X_test, y_test, test_size=0.5, random_state=42)\n",
    "\n",
    "print(X_train.shape)\n",
    "print(X_test.shape)\n",
    "print(y_train.shape)\n",
    "print(y_test.shape)\n",
    "print(X_val.shape)\n",
    "print(y_val.shape)\n",
    "\n"
   ]
  },
  {
   "cell_type": "markdown",
   "metadata": {},
   "source": [
    "하이퍼파라미터 튜닝"
   ]
  },
  {
   "cell_type": "code",
   "execution_count": 160,
   "metadata": {},
   "outputs": [
    {
     "name": "stdout",
     "output_type": "stream",
     "text": [
      "최적 하이퍼 파라미터: {'max_depth': 8, 'min_samples_leaf': 8, 'min_samples_split': 8, 'n_estimators': 200}\n",
      "최적 예측 정확도: 0.9974\n"
     ]
    }
   ],
   "source": [
    "params = {\n",
    "    'n_estimators':(100, 200),\n",
    "    'max_depth' : (5, 8),\n",
    "    'min_samples_leaf' : (8, 18),\n",
    "    'min_samples_split' : (8, 16)\n",
    "}\n",
    "rf_model = RandomForestRegressor(random_state=0, n_jobs=-1)\n",
    "grid_cv = GridSearchCV(rf_model, param_grid=params, cv=2, n_jobs=-1)\n",
    "grid_cv.fit(X_train, y_train)\n",
    " \n",
    " \n",
    "print('최적 하이퍼 파라미터:', grid_cv.best_params_)\n",
    "print('최적 예측 정확도: {0:.4f}'.format(grid_cv.best_score_))"
   ]
  },
  {
   "cell_type": "markdown",
   "metadata": {},
   "source": [
    "RandomForestRegressor model 생성"
   ]
  },
  {
   "cell_type": "code",
   "execution_count": 161,
   "metadata": {},
   "outputs": [
    {
     "data": {
      "text/html": [
       "<style>#sk-container-id-8 {color: black;}#sk-container-id-8 pre{padding: 0;}#sk-container-id-8 div.sk-toggleable {background-color: white;}#sk-container-id-8 label.sk-toggleable__label {cursor: pointer;display: block;width: 100%;margin-bottom: 0;padding: 0.3em;box-sizing: border-box;text-align: center;}#sk-container-id-8 label.sk-toggleable__label-arrow:before {content: \"▸\";float: left;margin-right: 0.25em;color: #696969;}#sk-container-id-8 label.sk-toggleable__label-arrow:hover:before {color: black;}#sk-container-id-8 div.sk-estimator:hover label.sk-toggleable__label-arrow:before {color: black;}#sk-container-id-8 div.sk-toggleable__content {max-height: 0;max-width: 0;overflow: hidden;text-align: left;background-color: #f0f8ff;}#sk-container-id-8 div.sk-toggleable__content pre {margin: 0.2em;color: black;border-radius: 0.25em;background-color: #f0f8ff;}#sk-container-id-8 input.sk-toggleable__control:checked~div.sk-toggleable__content {max-height: 200px;max-width: 100%;overflow: auto;}#sk-container-id-8 input.sk-toggleable__control:checked~label.sk-toggleable__label-arrow:before {content: \"▾\";}#sk-container-id-8 div.sk-estimator input.sk-toggleable__control:checked~label.sk-toggleable__label {background-color: #d4ebff;}#sk-container-id-8 div.sk-label input.sk-toggleable__control:checked~label.sk-toggleable__label {background-color: #d4ebff;}#sk-container-id-8 input.sk-hidden--visually {border: 0;clip: rect(1px 1px 1px 1px);clip: rect(1px, 1px, 1px, 1px);height: 1px;margin: -1px;overflow: hidden;padding: 0;position: absolute;width: 1px;}#sk-container-id-8 div.sk-estimator {font-family: monospace;background-color: #f0f8ff;border: 1px dotted black;border-radius: 0.25em;box-sizing: border-box;margin-bottom: 0.5em;}#sk-container-id-8 div.sk-estimator:hover {background-color: #d4ebff;}#sk-container-id-8 div.sk-parallel-item::after {content: \"\";width: 100%;border-bottom: 1px solid gray;flex-grow: 1;}#sk-container-id-8 div.sk-label:hover label.sk-toggleable__label {background-color: #d4ebff;}#sk-container-id-8 div.sk-serial::before {content: \"\";position: absolute;border-left: 1px solid gray;box-sizing: border-box;top: 0;bottom: 0;left: 50%;z-index: 0;}#sk-container-id-8 div.sk-serial {display: flex;flex-direction: column;align-items: center;background-color: white;padding-right: 0.2em;padding-left: 0.2em;position: relative;}#sk-container-id-8 div.sk-item {position: relative;z-index: 1;}#sk-container-id-8 div.sk-parallel {display: flex;align-items: stretch;justify-content: center;background-color: white;position: relative;}#sk-container-id-8 div.sk-item::before, #sk-container-id-8 div.sk-parallel-item::before {content: \"\";position: absolute;border-left: 1px solid gray;box-sizing: border-box;top: 0;bottom: 0;left: 50%;z-index: -1;}#sk-container-id-8 div.sk-parallel-item {display: flex;flex-direction: column;z-index: 1;position: relative;background-color: white;}#sk-container-id-8 div.sk-parallel-item:first-child::after {align-self: flex-end;width: 50%;}#sk-container-id-8 div.sk-parallel-item:last-child::after {align-self: flex-start;width: 50%;}#sk-container-id-8 div.sk-parallel-item:only-child::after {width: 0;}#sk-container-id-8 div.sk-dashed-wrapped {border: 1px dashed gray;margin: 0 0.4em 0.5em 0.4em;box-sizing: border-box;padding-bottom: 0.4em;background-color: white;}#sk-container-id-8 div.sk-label label {font-family: monospace;font-weight: bold;display: inline-block;line-height: 1.2em;}#sk-container-id-8 div.sk-label-container {text-align: center;}#sk-container-id-8 div.sk-container {/* jupyter's `normalize.less` sets `[hidden] { display: none; }` but bootstrap.min.css set `[hidden] { display: none !important; }` so we also need the `!important` here to be able to override the default hidden behavior on the sphinx rendered scikit-learn.org. See: https://github.com/scikit-learn/scikit-learn/issues/21755 */display: inline-block !important;position: relative;}#sk-container-id-8 div.sk-text-repr-fallback {display: none;}</style><div id=\"sk-container-id-8\" class=\"sk-top-container\"><div class=\"sk-text-repr-fallback\"><pre>RandomForestRegressor(max_depth=8, min_samples_leaf=8, min_samples_split=8,\n",
       "                      n_estimators=200, random_state=0)</pre><b>In a Jupyter environment, please rerun this cell to show the HTML representation or trust the notebook. <br />On GitHub, the HTML representation is unable to render, please try loading this page with nbviewer.org.</b></div><div class=\"sk-container\" hidden><div class=\"sk-item\"><div class=\"sk-estimator sk-toggleable\"><input class=\"sk-toggleable__control sk-hidden--visually\" id=\"sk-estimator-id-8\" type=\"checkbox\" checked><label for=\"sk-estimator-id-8\" class=\"sk-toggleable__label sk-toggleable__label-arrow\">RandomForestRegressor</label><div class=\"sk-toggleable__content\"><pre>RandomForestRegressor(max_depth=8, min_samples_leaf=8, min_samples_split=8,\n",
       "                      n_estimators=200, random_state=0)</pre></div></div></div></div></div>"
      ],
      "text/plain": [
       "RandomForestRegressor(max_depth=8, min_samples_leaf=8, min_samples_split=8,\n",
       "                      n_estimators=200, random_state=0)"
      ]
     },
     "execution_count": 161,
     "metadata": {},
     "output_type": "execute_result"
    }
   ],
   "source": [
    "rf_model = RandomForestRegressor(random_state=0, max_depth=8, min_samples_leaf=8, min_samples_split=8,n_estimators=200)\n",
    "rf_model.fit(X_train, y_train)"
   ]
  },
  {
   "cell_type": "code",
   "execution_count": 162,
   "metadata": {},
   "outputs": [
    {
     "name": "stdout",
     "output_type": "stream",
     "text": [
      "train data RMSE':0.4770655675164248\n",
      "train data MSE':0.22759155570976847\n",
      "test data RMSE':0.5259443369618785\n",
      "test data MSE':0.27661744558227\n",
      "validation data RMSE':0.5312405287662662\n",
      "validation data MSE':0.28221649940386206\n"
     ]
    }
   ],
   "source": [
    "# train mse, rmse\n",
    "train_predict = rf_model.predict(X_train)\n",
    "print(\"train data RMSE':{}\".format(math.sqrt(mean_squared_error(train_predict, y_train))))\n",
    "print(\"train data MSE':{}\".format(mean_squared_error(train_predict, y_train)))\n",
    "# test mse, rmse\n",
    "test_predict = rf_model.predict(X_test)\n",
    "print(\"test data RMSE':{}\".format(math.sqrt(mean_squared_error(test_predict, y_test))))\n",
    "print(\"test data MSE':{}\".format(mean_squared_error(test_predict, y_test)))\n",
    "#validation mse, rmse\n",
    "valid_predict = rf_model.predict(X_val)\n",
    "print(\"validation data RMSE':{}\".format(math.sqrt(mean_squared_error(valid_predict, y_val))))\n",
    "print(\"validation data MSE':{}\".format(mean_squared_error(valid_predict, y_val)))\n"
   ]
  },
  {
   "cell_type": "code",
   "execution_count": null,
   "metadata": {},
   "outputs": [],
   "source": []
  }
 ],
 "metadata": {
  "kernelspec": {
   "display_name": "Python 3",
   "language": "python",
   "name": "python3"
  },
  "language_info": {
   "codemirror_mode": {
    "name": "ipython",
    "version": 3
   },
   "file_extension": ".py",
   "mimetype": "text/x-python",
   "name": "python",
   "nbconvert_exporter": "python",
   "pygments_lexer": "ipython3",
   "version": "3.8.8"
  }
 },
 "nbformat": 4,
 "nbformat_minor": 2
}
